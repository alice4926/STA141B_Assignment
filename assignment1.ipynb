{
 "cells": [
  {
   "cell_type": "markdown",
   "metadata": {},
   "source": [
    "## Part 1: The Doomsday Algorithm\n",
    "\n",
    "The Doomsday algorithm, devised by mathematician J. H. Conway, computes the day of the week any given date fell on. The algorithm is designed to be simple enough to memorize and use for mental calculation.\n",
    "\n",
    "__Example.__ With the algorithm, we can compute that July 4, 1776 (the day the United States declared independence from Great Britain) was a Thursday.\n",
    "\n",
    "The algorithm is based on the fact that for any year, several dates always fall on the same day of the week, called the <em style=\"color:#F00\">doomsday</em> for the year. These dates include 4/4, 6/6, 8/8, 10/10, and 12/12.\n",
    "\n",
    "__Example.__ The doomsday for 2016 is Monday, so in 2016 the dates above all fell on Mondays. The doomsday for 2017 is Tuesday, so in 2017 the dates above will all fall on Tuesdays.\n",
    "\n",
    "The doomsday algorithm has three major steps:\n",
    "\n",
    "1. Compute the anchor day for the target century.\n",
    "2. Compute the doomsday for the target year based on the anchor day.\n",
    "3. Determine the day of week for the target date by counting the number of days to the nearest doomsday.\n",
    "\n",
    "Each step is explained in detail below."
   ]
  },
  {
   "cell_type": "markdown",
   "metadata": {},
   "source": [
    "### The Anchor Day\n",
    "\n",
    "The doomsday for the first year in a century is called the <em style=\"color:#F00\">anchor day</em> for that century. The anchor day is needed to compute the doomsday for any other year in that century. The anchor day for a century $c$ can be computed with the formula:\n",
    "$$\n",
    "a = \\bigl( 5 (c \\bmod 4) + 2 \\bigr) \\bmod 7\n",
    "$$\n",
    "The result $a$ corresponds to a day of the week, starting with $0$ for Sunday and ending with $6$ for Saturday.\n",
    "\n",
    "__Note.__ The modulo operation $(x \\bmod y)$ finds the remainder after dividing $x$ by $y$. For instance, $12 \\bmod 3 = 0$ since the remainder after dividing $12$ by $3$ is $0$. Similarly, $11 \\bmod 7 = 4$, since the remainder after dividing $11$ by $7$ is $4$.\n",
    "\n",
    "__Example.__ Suppose the target year is 1954, so the century is $c = 19$. Plugging this into the formula gives\n",
    "$$a = \\bigl( 5 (19 \\bmod 4) + 2 \\bigr) \\bmod 7 = \\bigl( 5(3) + 2 \\bigr) \\bmod 7 = 3.$$\n",
    "In other words, the anchor day for 1900-1999 is Wednesday, which is also the doomsday for 1900.\n",
    "\n",
    "__Exercise 1.1.__ Write a function that accepts a year as input and computes the anchor day for that year's century. The modulo operator `%` and functions in the `math` module may be useful. Document your function with a docstring and test your function for a few different years.  Do this in a new cell below this one."
   ]
  },
  {
   "cell_type": "code",
   "execution_count": 40,
   "metadata": {
    "collapsed": true
   },
   "outputs": [],
   "source": [
    "def AnchorDay(year):\n",
    "    \"\"\"\n",
    "    This AnchorDay function is used to find the anchor day of a century. \n",
    "    User has to input a year and the function will first find out what century is\n",
    "    And find out the anchor day of that century.\n",
    "    \n",
    "    Input: year\n",
    "    \n",
    "    Output: an integer corresponds to a day of week, \n",
    "    starting with 0 for Sunday and ending with 6 for Saturday\n",
    "    \n",
    "    Output is the Doomsday of the target year\n",
    "    \"\"\"\n",
    "    \n",
    "    century = int(str(year)[-4:-2])\n",
    "    anchor = (5*(century % 4) + 2) % 7\n",
    "    return anchor"
   ]
  },
  {
   "cell_type": "code",
   "execution_count": 41,
   "metadata": {
    "collapsed": false
   },
   "outputs": [
    {
     "data": {
      "text/plain": [
       "3"
      ]
     },
     "execution_count": 41,
     "metadata": {},
     "output_type": "execute_result"
    }
   ],
   "source": [
    "AnchorDay(1954)"
   ]
  },
  {
   "cell_type": "markdown",
   "metadata": {},
   "source": [
    "### The Doomsday\n",
    "\n",
    "Once the anchor day is known, let $y$ be the last two digits of the target year. Then the doomsday for the target year can be computed with the formula:\n",
    "$$d = \\left(y + \\left\\lfloor\\frac{y}{4}\\right\\rfloor + a\\right) \\bmod 7$$\n",
    "The result $d$ corresponds to a day of the week.\n",
    "\n",
    "__Note.__ The floor operation $\\lfloor x \\rfloor$ rounds $x$ down to the nearest integer. For instance, $\\lfloor 3.1 \\rfloor = 3$ and $\\lfloor 3.8 \\rfloor = 3$.\n",
    "\n",
    "__Example.__ Again suppose the target year is 1954. Then the anchor day is $a = 3$, and $y = 54$, so the formula gives\n",
    "$$\n",
    "d = \\left(54 + \\left\\lfloor\\frac{54}{4}\\right\\rfloor + 3\\right) \\bmod 7 = (54 + 13 + 3) \\bmod 7 = 0.\n",
    "$$\n",
    "Thus the doomsday for 1954 is Sunday.\n",
    "\n",
    "__Exercise 1.2.__ Write a function that accepts a year as input and computes the doomsday for that year. Your function may need to call the function you wrote in exercise 1.1. Make sure to document and test your function."
   ]
  },
  {
   "cell_type": "code",
   "execution_count": 42,
   "metadata": {
    "collapsed": true
   },
   "outputs": [],
   "source": [
    "def Doomsday(year):\n",
    "    \"\"\"\n",
    "    This function is used to recognize the doomsday of the targeted year.\n",
    "    When computing doomsday, we need anchor day of that century first. \n",
    "    Here we call the function AnchorDays to find the anchor day of the century.\n",
    "    Then used the formula to find the Doomsday\n",
    "    \n",
    "    Input: target year\n",
    "    Output: an integer corresponds to a day of week, \n",
    "    starting with 0 for Sunday and ending with 6 for Saturday\n",
    "    \n",
    "    Output is the Doomsday of the target year\n",
    "    \n",
    "    \"\"\"\n",
    "    a = AnchorDay(year)\n",
    "    last2digits = int(str(year)[-2:])\n",
    "    dooms = (last2digits + last2digits/4 + a) % 7\n",
    "    return dooms"
   ]
  },
  {
   "cell_type": "code",
   "execution_count": 43,
   "metadata": {
    "collapsed": false
   },
   "outputs": [
    {
     "data": {
      "text/plain": [
       "0"
      ]
     },
     "execution_count": 43,
     "metadata": {},
     "output_type": "execute_result"
    }
   ],
   "source": [
    "Doomsday(1954)"
   ]
  },
  {
   "cell_type": "markdown",
   "metadata": {},
   "source": [
    "### The Day of Week\n",
    "\n",
    "The final step in the Doomsday algorithm is to count the number of days between the target date and a nearby doomsday, modulo 7. This gives the day of the week.\n",
    "\n",
    "Every month has at least one doomsday:\n",
    "* (regular years) 1/10, 2/28\n",
    "* (leap years) 1/11, 2/29\n",
    "* 3/21, 4/4, 5/9, 6/6, 7/11, 8/8, 9/5, 10/10, 11/7, 12/12\n",
    "\n",
    "__Example.__ Suppose we want to find the day of the week for 7/21/1954. The doomsday for 1954 is Sunday, and a nearby doomsday is 7/11. There are 10 days in July between 7/11 and 7/21. Since $10 \\bmod 7 = 3$, the date 7/21/1954 falls 3 days after a Sunday, on a Wednesday.\n",
    "\n",
    "__Exercise 1.3.__ Write a function to determine the day of the week for a given day, month, and year. Be careful of leap years! Your function should return a string such as \"Thursday\" rather than a number. As usual, document and test your code."
   ]
  },
  {
   "cell_type": "code",
   "execution_count": 44,
   "metadata": {
    "collapsed": true
   },
   "outputs": [],
   "source": [
    "def DayofWeek(date):\n",
    "    \"\"\"\n",
    "    This function is used to find the day of the week for a specific date.\n",
    "    In the begining, we have to find out whether it's on regular year or leap year by dividing year to 4. \n",
    "    If modulo 0, it's a leap year.\n",
    "    Then, we need to find out the doomsday of the same month and use that day as a standard.\n",
    "    Afterward, we can use the difference of two days to determine the day of week of the inputed date.\n",
    "    \n",
    "    Input: date in the string format of month/day/year\n",
    "    Output: day of week\n",
    "    \"\"\"\n",
    "    date = date.split(\"/\")\n",
    "    date = [int(i) for i in date]\n",
    "    if (date[2]%4 == 0 and date[2]%100 != 0) or date[2]%400 == 0:\n",
    "        dooms_everyyear = [11,29,21,4,9,6,11,8,5,10,7,12]\n",
    "    else:\n",
    "        dooms_everyyear = [10,28,21,4,9,6,11,8,5,10,7,12]\n",
    "    nearest = [date[0],dooms_everyyear[date[0]-1]]\n",
    "    \n",
    "    weekday = [\"Sunday\",\"Monday\",\"Tuesday\",\"Wednesday\",\"Thursday\",\"Friday\",\"Saturday\"]\n",
    "    doomsday_year = Doomsday(date[2])\n",
    "    day_diff = date[1] - nearest[1]\n",
    "    weekday_index = (day_diff%7 + doomsday_year)%7\n",
    "    return weekday[weekday_index]"
   ]
  },
  {
   "cell_type": "code",
   "execution_count": 58,
   "metadata": {
    "collapsed": false
   },
   "outputs": [
    {
     "data": {
      "text/plain": [
       "'Wednesday'"
      ]
     },
     "execution_count": 58,
     "metadata": {},
     "output_type": "execute_result"
    }
   ],
   "source": [
    "DayofWeek(\"7/21/1954\")"
   ]
  },
  {
   "cell_type": "markdown",
   "metadata": {},
   "source": [
    "__Exercise 1.4.__ How many times did Friday the 13th occur in the years 1900-1999? Does this number seem to be similar to other centuries?"
   ]
  },
  {
   "cell_type": "markdown",
   "metadata": {},
   "source": [
    "<p> \n",
    "Although Exercise 1.4 only asked us to find out how many times did Firday the 13th occur between two years, for convinence, I wrote a function to find the Friday the 13th between two date. Then I don't have to worte a function again for Exercise 1.5\n",
    "</p>"
   ]
  },
  {
   "cell_type": "code",
   "execution_count": 46,
   "metadata": {
    "collapsed": true
   },
   "outputs": [],
   "source": [
    "def FridayThe13th(start_date,end_date):\n",
    "    \"\"\"\n",
    "    This function is used to find out how many times did Friday the 13th occur between two specific date.\n",
    "    \n",
    "    Input: two dates in the string format of \"month/day/year\"\n",
    "    \n",
    "    We can find out how many 13th between this two date. \n",
    "    And use the function DayofWeek to find out the date of each 13th.\n",
    "    Then we can count how many of day of week are Friday\n",
    "    \n",
    "    Output: how many times did Friday the 13th occur\n",
    "    \"\"\"\n",
    "    start = [int(i) for i in start_date.split(\"/\")]\n",
    "    end = [int(i) for i in end_date.split(\"/\")]\n",
    "    date13 = []\n",
    "    \n",
    "    # 13th of each month in first year\n",
    "    if start[1] <= 13:\n",
    "        for month in xrange(start[0],13):\n",
    "            date13.append(\"{0}/{1}/{2}\".format(str(month),\"13\",str(start[2])))\n",
    "    else:\n",
    "        for month in xrange(start[0]+1,13):\n",
    "            date13.append(\"{0}/{1}/{2}\".format(str(month),\"13\",str(start[2])))\n",
    "\n",
    "    for year in xrange(start[2]+1,end[2]):\n",
    "        for month in xrange(1,13):\n",
    "            date13.append(\"{0}/{1}/{2}\".format(str(month),\"13\",str(year)))\n",
    "\n",
    "    # 13th of each month in the last year\n",
    "    if end[1] >= 13:\n",
    "        for month in xrange(1,end[0]+1):\n",
    "            date13.append(\"{0}/{1}/{2}\".format(str(month),\"13\",end[2]))\n",
    "    else:\n",
    "        for month in xrange(1,end[0]):\n",
    "            date13.append(\"{0}/{1}/{2}\".format(str(month),\"13\",end[2]))\n",
    "\n",
    "    weekdayofthirteen = [DayofWeek(d) for d in date13]\n",
    "    return weekdayofthirteen.count(\"Friday\")\n"
   ]
  },
  {
   "cell_type": "code",
   "execution_count": 47,
   "metadata": {
    "collapsed": false
   },
   "outputs": [
    {
     "data": {
      "text/plain": [
       "172"
      ]
     },
     "execution_count": 47,
     "metadata": {},
     "output_type": "execute_result"
    }
   ],
   "source": [
    "FridayThe13th(\"1/1/1900\",\"12/31/1999\")"
   ]
  },
  {
   "cell_type": "markdown",
   "metadata": {},
   "source": [
    "There're 172 Friday the 13th in 19th century. Now, let's find out how many time Friday the 13th in 17th and 18th century."
   ]
  },
  {
   "cell_type": "code",
   "execution_count": 48,
   "metadata": {
    "collapsed": false
   },
   "outputs": [
    {
     "data": {
      "text/plain": [
       "[172, 172]"
      ]
     },
     "execution_count": 48,
     "metadata": {},
     "output_type": "execute_result"
    }
   ],
   "source": [
    "[FridayThe13th(\"1/1/1800\",\"12/31/1899\"),FridayThe13th(\"1/1/1700\",\"12/31/1799\")]"
   ]
  },
  {
   "cell_type": "markdown",
   "metadata": {},
   "source": [
    "For every century, there're 172 Friday the 13th. The numbder of Friday the 13th is the same for every century.\n",
    "\n",
    "__Exercise 1.5.__ How many times did Friday the 13th occur between the year 2000 and today?"
   ]
  },
  {
   "cell_type": "code",
   "execution_count": 49,
   "metadata": {
    "collapsed": false
   },
   "outputs": [
    {
     "data": {
      "text/plain": [
       "30"
      ]
     },
     "execution_count": 49,
     "metadata": {},
     "output_type": "execute_result"
    }
   ],
   "source": [
    "FridayThe13th(\"1/1/2000\",\"1/19/2017\")"
   ]
  },
  {
   "cell_type": "markdown",
   "metadata": {},
   "source": [
    "## Part 2: 1978 Birthdays\n",
    "\n",
    "__Exercise 2.1.__ The file `birthdays.txt` contains the number of births in the United States for each day in 1978. Inspect the file to determine the format. Note that columns are separated by the tab character, which can be entered in Python as `\\t`. Write a function that uses iterators and list comprehensions with the string methods `split()` and `strip()` to  convert each line of data to the list format\n",
    "\n",
    "```Python\n",
    "[month, day, year, count]\n",
    "```\n",
    "The elements of this list should be integers, not strings. The function `read_birthdays` provided below will help you load the file."
   ]
  },
  {
   "cell_type": "code",
   "execution_count": 50,
   "metadata": {
    "collapsed": true
   },
   "outputs": [],
   "source": [
    "def read_birthdays(file_path):\n",
    "    \"\"\"Read the contents of the birthdays file into a string.\n",
    "    \n",
    "    Arguments:\n",
    "        file_path (string): The path to the birthdays file.\n",
    "        \n",
    "    Returns:\n",
    "        string: The contents of the birthdays file.\n",
    "    \"\"\"\n",
    "    with open(file_path) as file:\n",
    "        return file.read()"
   ]
  },
  {
   "cell_type": "code",
   "execution_count": 51,
   "metadata": {
    "collapsed": true
   },
   "outputs": [],
   "source": [
    "def BDStringToList(text):\n",
    "    \"\"\"\n",
    "    This function is used to convert each line of data to the list format [month, day, year, count]\n",
    "    \n",
    "    Input: text read through the function read_birthdays\n",
    "    \n",
    "    Output: a list of list containing the contents of the birthdays file in the format of [month, day, year, count]\n",
    "    \"\"\"\n",
    "    text = text.strip()\n",
    "    text = text.split(\"\\n\")\n",
    "    bd_list = []\n",
    "    for item in text:\n",
    "        bd_count = item.split()\n",
    "        date =  bd_count[0].split(\"/\")\n",
    "        date[2] = \"19\" + date[2]\n",
    "        bd = date + [bd_count[1]]\n",
    "        bd = [int(a) for a in bd]\n",
    "        bd_list = bd_list + [bd]\n",
    "    return bd_list"
   ]
  },
  {
   "cell_type": "code",
   "execution_count": 52,
   "metadata": {
    "collapsed": false
   },
   "outputs": [
    {
     "data": {
      "text/plain": [
       "[[1, 1, 1978, 7701],\n",
       " [1, 2, 1978, 7527],\n",
       " [1, 3, 1978, 8825],\n",
       " [1, 4, 1978, 8859],\n",
       " [1, 5, 1978, 9043]]"
      ]
     },
     "execution_count": 52,
     "metadata": {},
     "output_type": "execute_result"
    }
   ],
   "source": [
    "birthday = BDStringToList(read_birthdays(\"/Users/alice/STA141B/Homework1/birthdays.txt\"))\n",
    "birthday[0:5]"
   ]
  },
  {
   "cell_type": "markdown",
   "metadata": {},
   "source": [
    "__Exercise 2.2.__ Which month had the most births in 1978? Which day of the week had the most births? Which day of the week had the fewest? What conclusions can you draw? You may find the `Counter` class in the `collections` module useful."
   ]
  },
  {
   "cell_type": "markdown",
   "metadata": {},
   "source": [
    "In here, I first created a list containing 12 elements and each element = 0. Then I used month-1 as the index and keep sum the counts into the list in that index. In the end, I use index and max function to find out which month has the most counts in 1978."
   ]
  },
  {
   "cell_type": "code",
   "execution_count": 53,
   "metadata": {
    "collapsed": false
   },
   "outputs": [
    {
     "data": {
      "text/plain": [
       "8"
      ]
     },
     "execution_count": 53,
     "metadata": {},
     "output_type": "execute_result"
    }
   ],
   "source": [
    "count_month = [0]*12\n",
    "for item in birthday:\n",
    "    count_month[item[0]-1] = count_month[item[0]-1] + item[3]\n",
    "count_month.index(max(count_month))+1"
   ]
  },
  {
   "cell_type": "markdown",
   "metadata": {},
   "source": [
    "August had the most births in 1978.\n",
    "\n",
    "For the day of week, I also use the same method. However, to find out the day of week, we have to use the function DayofWeek I wrote before. Therefore, I first turn the list into a string in a format of \"month/day/year\". Then we can find out the the day of week and sum the births up."
   ]
  },
  {
   "cell_type": "code",
   "execution_count": 54,
   "metadata": {
    "collapsed": false
   },
   "outputs": [],
   "source": [
    "for date in birthday:\n",
    "    date_string = \"{0}/{1}/{2}\".format(date[0],date[1],date[2])\n",
    "    date = date.append(DayofWeek(date_string))\n",
    "\n",
    "weekdaydic = [\"Sunday\",\"Monday\",\"Tuesday\",\"Wednesday\",\"Thursday\",\"Friday\",\"Saturday\"]\n",
    "weekdaycount = [0]*7\n",
    "for date in birthday:\n",
    "    weekdaycount[weekdaydic.index(date[4])] += date[3]\n"
   ]
  },
  {
   "cell_type": "code",
   "execution_count": 55,
   "metadata": {
    "collapsed": false
   },
   "outputs": [
    {
     "data": {
      "text/plain": [
       "['Tuesday', 'Sunday']"
      ]
     },
     "execution_count": 55,
     "metadata": {},
     "output_type": "execute_result"
    }
   ],
   "source": [
    "[weekdaydic[weekdaycount.index(max(weekdaycount))],weekdaydic[weekdaycount.index(min(weekdaycount))]]"
   ]
  },
  {
   "cell_type": "markdown",
   "metadata": {},
   "source": [
    "Tuesday had the most births and Sunday had the fewest births."
   ]
  },
  {
   "cell_type": "markdown",
   "metadata": {},
   "source": [
    "__Exercise 2.3.__ What would be an effective way to present the information in exercise 2.2? You don't need to write any code for this exercise, just discuss what you would do.\n",
    "\n",
    "I think an effective way to present the information in exercise 2.2 is to turn the list into plot, such as histogram."
   ]
  }
 ],
 "metadata": {
  "anaconda-cloud": {},
  "kernelspec": {
   "display_name": "Python [default]",
   "language": "python",
   "name": "python2"
  },
  "language_info": {
   "codemirror_mode": {
    "name": "ipython",
    "version": 2
   },
   "file_extension": ".py",
   "mimetype": "text/x-python",
   "name": "python",
   "nbconvert_exporter": "python",
   "pygments_lexer": "ipython2",
   "version": "2.7.12"
  }
 },
 "nbformat": 4,
 "nbformat_minor": 2
}
